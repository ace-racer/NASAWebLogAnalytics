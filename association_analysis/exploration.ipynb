{
 "cells": [
  {
   "cell_type": "code",
   "execution_count": 12,
   "metadata": {
    "collapsed": true
   },
   "outputs": [],
   "source": [
    "import pandas as pd\n",
    "import numpy as np\n",
    "import matplotlib.pyplot as plt\n",
    "import seaborn as sns\n",
    "%matplotlib inline"
   ]
  },
  {
   "cell_type": "code",
   "execution_count": 2,
   "metadata": {},
   "outputs": [
    {
     "name": "stderr",
     "output_type": "stream",
     "text": [
      "G:\\anaconda\\lib\\site-packages\\IPython\\core\\interactiveshell.py:2698: DtypeWarning: Columns (4) have mixed types. Specify dtype option on import or set low_memory=False.\n",
      "  interactivity=interactivity, compiler=compiler, result=result)\n"
     ]
    },
    {
     "data": {
      "text/html": [
       "<div>\n",
       "<style scoped>\n",
       "    .dataframe tbody tr th:only-of-type {\n",
       "        vertical-align: middle;\n",
       "    }\n",
       "\n",
       "    .dataframe tbody tr th {\n",
       "        vertical-align: top;\n",
       "    }\n",
       "\n",
       "    .dataframe thead th {\n",
       "        text-align: right;\n",
       "    }\n",
       "</style>\n",
       "<table border=\"1\" class=\"dataframe\">\n",
       "  <thead>\n",
       "    <tr style=\"text-align: right;\">\n",
       "      <th></th>\n",
       "      <th>ipaddress</th>\n",
       "      <th>date</th>\n",
       "      <th>time</th>\n",
       "      <th>webpage</th>\n",
       "      <th>bytes_recv</th>\n",
       "      <th>datetime</th>\n",
       "      <th>unix_timestamp</th>\n",
       "      <th>session_id</th>\n",
       "    </tr>\n",
       "  </thead>\n",
       "  <tbody>\n",
       "    <tr>\n",
       "      <th>0</th>\n",
       "      <td>***.novo.dk</td>\n",
       "      <td>11/Jul/1995</td>\n",
       "      <td>08:17:09</td>\n",
       "      <td>/ksc.html</td>\n",
       "      <td>7067</td>\n",
       "      <td>1995-07-11 08:17:09</td>\n",
       "      <td>805450629</td>\n",
       "      <td>1.0</td>\n",
       "    </tr>\n",
       "    <tr>\n",
       "      <th>1</th>\n",
       "      <td>***.novo.dk</td>\n",
       "      <td>11/Jul/1995</td>\n",
       "      <td>08:17:48</td>\n",
       "      <td>/shuttle/missions/missions.html</td>\n",
       "      <td>8678</td>\n",
       "      <td>1995-07-11 08:17:48</td>\n",
       "      <td>805450668</td>\n",
       "      <td>1.0</td>\n",
       "    </tr>\n",
       "    <tr>\n",
       "      <th>2</th>\n",
       "      <td>***.novo.dk</td>\n",
       "      <td>11/Jul/1995</td>\n",
       "      <td>08:21:05</td>\n",
       "      <td>/shuttle/missions/sts-35/mission-sts-35.html</td>\n",
       "      <td>12118</td>\n",
       "      <td>1995-07-11 08:21:05</td>\n",
       "      <td>805450865</td>\n",
       "      <td>1.0</td>\n",
       "    </tr>\n",
       "    <tr>\n",
       "      <th>3</th>\n",
       "      <td>***.novo.dk</td>\n",
       "      <td>11/Jul/1995</td>\n",
       "      <td>08:21:19</td>\n",
       "      <td>/shuttle/missions/sts-35/mission-sts-35.html</td>\n",
       "      <td>12118</td>\n",
       "      <td>1995-07-11 08:21:19</td>\n",
       "      <td>805450879</td>\n",
       "      <td>1.0</td>\n",
       "    </tr>\n",
       "    <tr>\n",
       "      <th>4</th>\n",
       "      <td>***.novo.dk</td>\n",
       "      <td>11/Jul/1995</td>\n",
       "      <td>08:23:01</td>\n",
       "      <td>/shuttle/resources/orbiters/columbia.html</td>\n",
       "      <td>6922</td>\n",
       "      <td>1995-07-11 08:23:01</td>\n",
       "      <td>805450981</td>\n",
       "      <td>1.0</td>\n",
       "    </tr>\n",
       "  </tbody>\n",
       "</table>\n",
       "</div>"
      ],
      "text/plain": [
       "     ipaddress         date      time  \\\n",
       "0  ***.novo.dk  11/Jul/1995  08:17:09   \n",
       "1  ***.novo.dk  11/Jul/1995  08:17:48   \n",
       "2  ***.novo.dk  11/Jul/1995  08:21:05   \n",
       "3  ***.novo.dk  11/Jul/1995  08:21:19   \n",
       "4  ***.novo.dk  11/Jul/1995  08:23:01   \n",
       "\n",
       "                                        webpage bytes_recv  \\\n",
       "0                                     /ksc.html       7067   \n",
       "1               /shuttle/missions/missions.html       8678   \n",
       "2  /shuttle/missions/sts-35/mission-sts-35.html      12118   \n",
       "3  /shuttle/missions/sts-35/mission-sts-35.html      12118   \n",
       "4     /shuttle/resources/orbiters/columbia.html       6922   \n",
       "\n",
       "              datetime  unix_timestamp  session_id  \n",
       "0  1995-07-11 08:17:09       805450629         1.0  \n",
       "1  1995-07-11 08:17:48       805450668         1.0  \n",
       "2  1995-07-11 08:21:05       805450865         1.0  \n",
       "3  1995-07-11 08:21:19       805450879         1.0  \n",
       "4  1995-07-11 08:23:01       805450981         1.0  "
      ]
     },
     "execution_count": 2,
     "metadata": {},
     "output_type": "execute_result"
    }
   ],
   "source": [
    "july_df = pd.read_csv(\"../nasa_data/sessionized_data/sessionize_date_july.csv\")\n",
    "july_df.head()"
   ]
  },
  {
   "cell_type": "code",
   "execution_count": 3,
   "metadata": {},
   "outputs": [
    {
     "data": {
      "text/plain": [
       "1832"
      ]
     },
     "execution_count": 3,
     "metadata": {},
     "output_type": "execute_result"
    }
   ],
   "source": [
    "unique_pages = np.unique(july_df[\"webpage\"].values)\n",
    "len(unique_pages)\n"
   ]
  },
  {
   "cell_type": "code",
   "execution_count": 5,
   "metadata": {},
   "outputs": [
    {
     "data": {
      "text/plain": [
       "533770"
      ]
     },
     "execution_count": 5,
     "metadata": {},
     "output_type": "execute_result"
    }
   ],
   "source": [
    "total_pages = july_df[\"webpage\"].shape[0]\n",
    "total_pages"
   ]
  },
  {
   "cell_type": "code",
   "execution_count": 7,
   "metadata": {},
   "outputs": [
    {
     "data": {
      "text/plain": [
       "0.0034321898945238586"
      ]
     },
     "execution_count": 7,
     "metadata": {},
     "output_type": "execute_result"
    }
   ],
   "source": [
    "ratio_unique_to_total =  len(unique_pages)/total_pages\n",
    "ratio_unique_to_total"
   ]
  },
  {
   "cell_type": "markdown",
   "metadata": {},
   "source": [
    "## There are 1832 unique pages / 533770 total pages - which is good for association analysis"
   ]
  },
  {
   "cell_type": "code",
   "execution_count": 8,
   "metadata": {
    "collapsed": true
   },
   "outputs": [],
   "source": [
    "july_grouped_df = july_df.groupby(\"session_id\").size().reset_index()"
   ]
  },
  {
   "cell_type": "code",
   "execution_count": 10,
   "metadata": {},
   "outputs": [
    {
     "data": {
      "text/html": [
       "<div>\n",
       "<style scoped>\n",
       "    .dataframe tbody tr th:only-of-type {\n",
       "        vertical-align: middle;\n",
       "    }\n",
       "\n",
       "    .dataframe tbody tr th {\n",
       "        vertical-align: top;\n",
       "    }\n",
       "\n",
       "    .dataframe thead th {\n",
       "        text-align: right;\n",
       "    }\n",
       "</style>\n",
       "<table border=\"1\" class=\"dataframe\">\n",
       "  <thead>\n",
       "    <tr style=\"text-align: right;\">\n",
       "      <th></th>\n",
       "      <th>session_id</th>\n",
       "      <th>num_sessions</th>\n",
       "    </tr>\n",
       "  </thead>\n",
       "  <tbody>\n",
       "    <tr>\n",
       "      <th>0</th>\n",
       "      <td>1.0</td>\n",
       "      <td>6</td>\n",
       "    </tr>\n",
       "    <tr>\n",
       "      <th>1</th>\n",
       "      <td>2.0</td>\n",
       "      <td>10</td>\n",
       "    </tr>\n",
       "    <tr>\n",
       "      <th>2</th>\n",
       "      <td>3.0</td>\n",
       "      <td>6</td>\n",
       "    </tr>\n",
       "    <tr>\n",
       "      <th>3</th>\n",
       "      <td>4.0</td>\n",
       "      <td>2</td>\n",
       "    </tr>\n",
       "    <tr>\n",
       "      <th>4</th>\n",
       "      <td>5.0</td>\n",
       "      <td>2</td>\n",
       "    </tr>\n",
       "  </tbody>\n",
       "</table>\n",
       "</div>"
      ],
      "text/plain": [
       "   session_id  num_sessions\n",
       "0         1.0             6\n",
       "1         2.0            10\n",
       "2         3.0             6\n",
       "3         4.0             2\n",
       "4         5.0             2"
      ]
     },
     "execution_count": 10,
     "metadata": {},
     "output_type": "execute_result"
    }
   ],
   "source": [
    "july_grouped_df.columns = [\"session_id\", \"num_sessions\"]\n",
    "july_grouped_df.head()"
   ]
  },
  {
   "cell_type": "code",
   "execution_count": 13,
   "metadata": {},
   "outputs": [
    {
     "name": "stderr",
     "output_type": "stream",
     "text": [
      "G:\\anaconda\\lib\\site-packages\\seaborn\\categorical.py:1460: FutureWarning: remove_na is deprecated and is a private function. Do not use.\n",
      "  stat_data = remove_na(group_data)\n"
     ]
    },
    {
     "data": {
      "text/plain": [
       "<matplotlib.axes._subplots.AxesSubplot at 0x1fa70886ef0>"
      ]
     },
     "execution_count": 13,
     "metadata": {},
     "output_type": "execute_result"
    },
    {
     "data": {
      "image/png": "[encoded data removed]",
      "text/plain": [
       "<matplotlib.figure.Figure at 0x1fa6fada048>"
      ]
     },
     "metadata": {},
     "output_type": "display_data"
    }
   ],
   "source": [
    "sns.countplot(x=\"num_sessions\", data=july_grouped_df)"
   ]
  },
  {
   "cell_type": "code",
   "execution_count": null,
   "metadata": {
    "collapsed": true
   },
   "outputs": [],
   "source": []
  }
 ],
 "metadata": {
  "kernelspec": {
   "display_name": "Python 3",
   "language": "python",
   "name": "python3"
  },
  "language_info": {
   "codemirror_mode": {
    "name": "ipython",
    "version": 3
   },
   "file_extension": ".py",
   "mimetype": "text/x-python",
   "name": "python",
   "nbconvert_exporter": "python",
   "pygments_lexer": "ipython3",
   "version": "3.6.3"
  }
 },
 "nbformat": 4,
 "nbformat_minor": 2
}
