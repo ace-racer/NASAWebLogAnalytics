{
 "cells": [
  {
   "cell_type": "code",
   "execution_count": 1,
   "metadata": {},
   "outputs": [],
   "source": [
    "import pandas as pd\n",
    "import datetime\n",
    "import numpy as np"
   ]
  },
  {
   "cell_type": "markdown",
   "metadata": {},
   "source": [
    "### Read July File"
   ]
  },
  {
   "cell_type": "code",
   "execution_count": 85,
   "metadata": {},
   "outputs": [],
   "source": [
    "july_raw_df = pd.read_csv(\"processed_access_log_Jul95.csv\", sep=',', names = [\"ipaddress\", \"date\", \"time\", \"webpage\",\"bytes_recv\"])"
   ]
  },
  {
   "cell_type": "code",
   "execution_count": 96,
   "metadata": {
    "scrolled": true
   },
   "outputs": [
    {
     "data": {
      "text/html": [
       "<div>\n",
       "<style scoped>\n",
       "    .dataframe tbody tr th:only-of-type {\n",
       "        vertical-align: middle;\n",
       "    }\n",
       "\n",
       "    .dataframe tbody tr th {\n",
       "        vertical-align: top;\n",
       "    }\n",
       "\n",
       "    .dataframe thead th {\n",
       "        text-align: right;\n",
       "    }\n",
       "</style>\n",
       "<table border=\"1\" class=\"dataframe\">\n",
       "  <thead>\n",
       "    <tr style=\"text-align: right;\">\n",
       "      <th></th>\n",
       "      <th>ipaddress</th>\n",
       "      <th>date</th>\n",
       "      <th>time</th>\n",
       "      <th>webpage</th>\n",
       "      <th>bytes_recv</th>\n",
       "      <th>datetime</th>\n",
       "      <th>unix_timestamp</th>\n",
       "      <th>session_id</th>\n",
       "    </tr>\n",
       "  </thead>\n",
       "  <tbody>\n",
       "    <tr>\n",
       "      <th>87820</th>\n",
       "      <td>***.novo.dk</td>\n",
       "      <td>09/Aug/1995</td>\n",
       "      <td>03:02:48</td>\n",
       "      <td>/shuttle/missions/sts-69/mission-sts-69.html</td>\n",
       "      <td>11264</td>\n",
       "      <td>1995-08-09 03:02:48</td>\n",
       "      <td>807937368</td>\n",
       "      <td>1.0</td>\n",
       "    </tr>\n",
       "    <tr>\n",
       "      <th>87829</th>\n",
       "      <td>***.novo.dk</td>\n",
       "      <td>09/Aug/1995</td>\n",
       "      <td>03:03:52</td>\n",
       "      <td>/shuttle/countdown/</td>\n",
       "      <td>4673</td>\n",
       "      <td>1995-08-09 03:03:52</td>\n",
       "      <td>807937432</td>\n",
       "      <td>1.0</td>\n",
       "    </tr>\n",
       "    <tr>\n",
       "      <th>87839</th>\n",
       "      <td>***.novo.dk</td>\n",
       "      <td>09/Aug/1995</td>\n",
       "      <td>03:05:38</td>\n",
       "      <td>/shuttle/countdown/liftoff.html</td>\n",
       "      <td>4665</td>\n",
       "      <td>1995-08-09 03:05:38</td>\n",
       "      <td>807937538</td>\n",
       "      <td>1.0</td>\n",
       "    </tr>\n",
       "    <tr>\n",
       "      <th>87850</th>\n",
       "      <td>***.novo.dk</td>\n",
       "      <td>09/Aug/1995</td>\n",
       "      <td>03:07:40</td>\n",
       "      <td>/shuttle/countdown/lps/fr.html</td>\n",
       "      <td>1879</td>\n",
       "      <td>1995-08-09 03:07:40</td>\n",
       "      <td>807937660</td>\n",
       "      <td>1.0</td>\n",
       "    </tr>\n",
       "    <tr>\n",
       "      <th>376395</th>\n",
       "      <td>001.msy4.communique.net</td>\n",
       "      <td>30/Aug/1995</td>\n",
       "      <td>02:55:47</td>\n",
       "      <td>/software/winvn/winvn.html</td>\n",
       "      <td>9630</td>\n",
       "      <td>1995-08-30 02:55:47</td>\n",
       "      <td>809751347</td>\n",
       "      <td>2.0</td>\n",
       "    </tr>\n",
       "  </tbody>\n",
       "</table>\n",
       "</div>"
      ],
      "text/plain": [
       "                      ipaddress         date      time  \\\n",
       "87820               ***.novo.dk  09/Aug/1995  03:02:48   \n",
       "87829               ***.novo.dk  09/Aug/1995  03:03:52   \n",
       "87839               ***.novo.dk  09/Aug/1995  03:05:38   \n",
       "87850               ***.novo.dk  09/Aug/1995  03:07:40   \n",
       "376395  001.msy4.communique.net  30/Aug/1995  02:55:47   \n",
       "\n",
       "                                             webpage bytes_recv  \\\n",
       "87820   /shuttle/missions/sts-69/mission-sts-69.html      11264   \n",
       "87829                            /shuttle/countdown/       4673   \n",
       "87839                /shuttle/countdown/liftoff.html       4665   \n",
       "87850                 /shuttle/countdown/lps/fr.html       1879   \n",
       "376395                    /software/winvn/winvn.html       9630   \n",
       "\n",
       "                  datetime  unix_timestamp  session_id  \n",
       "87820  1995-08-09 03:02:48       807937368         1.0  \n",
       "87829  1995-08-09 03:03:52       807937432         1.0  \n",
       "87839  1995-08-09 03:05:38       807937538         1.0  \n",
       "87850  1995-08-09 03:07:40       807937660         1.0  \n",
       "376395 1995-08-30 02:55:47       809751347         2.0  "
      ]
     },
     "execution_count": 96,
     "metadata": {},
     "output_type": "execute_result"
    }
   ],
   "source": [
    "july_raw_df.head()"
   ]
  },
  {
   "cell_type": "code",
   "execution_count": 54,
   "metadata": {},
   "outputs": [],
   "source": [
    "#july_raw_df[\"ipaddress\"][136820] == july_raw_df[\"ipaddress\"][188797]"
   ]
  },
  {
   "cell_type": "markdown",
   "metadata": {},
   "source": [
    "### Append datetime"
   ]
  },
  {
   "cell_type": "code",
   "execution_count": 86,
   "metadata": {
    "scrolled": true
   },
   "outputs": [],
   "source": [
    "july_raw_df['datetime'] = july_raw_df['date'].map(str) +\":\" + july_raw_df['time']\n",
    "july_raw_df['datetime'] = pd.to_datetime(july_raw_df['datetime'], format='%d/%b/%Y:%H:%M:%S', errors=\"coerce\")"
   ]
  },
  {
   "cell_type": "code",
   "execution_count": 87,
   "metadata": {},
   "outputs": [],
   "source": [
    "# convert to unix timestamp\n",
    "july_raw_df['unix_timestamp'] = july_raw_df.datetime.values.astype(np.int64) // 10 ** 9"
   ]
  },
  {
   "cell_type": "markdown",
   "metadata": {},
   "source": [
    "### 1.A Same host irrespective of dates"
   ]
  },
  {
   "cell_type": "code",
   "execution_count": 59,
   "metadata": {},
   "outputs": [],
   "source": [
    "july_raw_df = july_raw_df.sort_values(by=['ipaddress'])\n",
    "july_raw_df['next_ipaddress'] = july_raw_df.ipaddress.shift(1)\n",
    "july_raw_df['session_new'] = july_raw_df['ipaddress'] !=  july_raw_df['next_ipaddress']"
   ]
  },
  {
   "cell_type": "code",
   "execution_count": 61,
   "metadata": {},
   "outputs": [],
   "source": [
    "# insert session id -- slow way\n",
    "session_id = 0\n",
    "for index, row in july_raw_df.iterrows():\n",
    "    if row['session_new']:\n",
    "        session_id+=1\n",
    "    july_raw_df.loc[index, 'session_id'] = int(session_id)"
   ]
  },
  {
   "cell_type": "code",
   "execution_count": 62,
   "metadata": {},
   "outputs": [],
   "source": [
    "july_raw_df.drop('session_new', axis=1, inplace=True)\n",
    "july_raw_df.drop('next_ipaddress', axis=1, inplace=True)\n",
    "# write to csv\n",
    "july_raw_df.to_csv(\"sessionize_hostonly_july.csv\",index=False)"
   ]
  },
  {
   "cell_type": "markdown",
   "metadata": {},
   "source": [
    "### 1.B. Same date == same session, else new session"
   ]
  },
  {
   "cell_type": "code",
   "execution_count": 88,
   "metadata": {},
   "outputs": [],
   "source": [
    "july_raw_df = july_raw_df.sort_values(by=['ipaddress','datetime'])"
   ]
  },
  {
   "cell_type": "code",
   "execution_count": 89,
   "metadata": {},
   "outputs": [],
   "source": [
    "july_raw_df['next_date'] = july_raw_df.date.shift(1)"
   ]
  },
  {
   "cell_type": "code",
   "execution_count": 90,
   "metadata": {},
   "outputs": [],
   "source": [
    "july_raw_df['session_new'] = july_raw_df['date'] !=  july_raw_df['next_date']"
   ]
  },
  {
   "cell_type": "code",
   "execution_count": 92,
   "metadata": {
    "scrolled": true
   },
   "outputs": [],
   "source": [
    "# insert session id -- slow way\n",
    "session_id = 0\n",
    "for index, row in july_raw_df.iterrows():\n",
    "    if row['session_new']:\n",
    "        session_id+=1\n",
    "    july_raw_df.loc[index, 'session_id'] = int(session_id)"
   ]
  },
  {
   "cell_type": "code",
   "execution_count": 93,
   "metadata": {},
   "outputs": [],
   "source": [
    "july_raw_df.drop('session_new', axis=1, inplace=True)\n",
    "july_raw_df.drop('next_date', axis=1, inplace=True)"
   ]
  },
  {
   "cell_type": "code",
   "execution_count": 94,
   "metadata": {},
   "outputs": [],
   "source": [
    "# write to csv\n",
    "july_raw_df.to_csv(\"sessionize_date_july.csv\",index=False)"
   ]
  },
  {
   "cell_type": "markdown",
   "metadata": {},
   "source": [
    "### 1.C. Difference between two timestamp <=30 min == same session, else new session"
   ]
  },
  {
   "cell_type": "code",
   "execution_count": 12,
   "metadata": {},
   "outputs": [],
   "source": [
    "july_raw_df.drop('session_id', axis=1, inplace=True)"
   ]
  },
  {
   "cell_type": "code",
   "execution_count": 12,
   "metadata": {
    "scrolled": true
   },
   "outputs": [],
   "source": [
    "# based on difference between timestamp\n",
    "g = july_raw_df.groupby(['ipaddress', 'date'])\n",
    "july_raw_df['session_new'] = g['unix_timestamp'].apply(lambda s: (abs(s.shift(1) - s) / 60))"
   ]
  },
  {
   "cell_type": "code",
   "execution_count": 15,
   "metadata": {},
   "outputs": [],
   "source": [
    "# insert session id -- slow way\n",
    "session_id = 0\n",
    "for index, row in july_raw_df.iterrows():\n",
    "    if pd.isna(row['session_new']) or row['session_new'] > 30:\n",
    "        session_id+=1\n",
    "    july_raw_df.loc[index, 'session_id'] = int(session_id)"
   ]
  },
  {
   "cell_type": "code",
   "execution_count": 17,
   "metadata": {},
   "outputs": [],
   "source": [
    "july_raw_df.drop('session_new', axis=1, inplace=True)\n",
    "# write to csv\n",
    "july_raw_df.to_csv(\"sessionize_time_july.csv\",index=False)"
   ]
  },
  {
   "cell_type": "markdown",
   "metadata": {},
   "source": [
    "### 2. Create events for Sequence mining"
   ]
  },
  {
   "cell_type": "code",
   "execution_count": 39,
   "metadata": {},
   "outputs": [],
   "source": [
    "processed_df = pd.read_csv(\"sessionize_hostonly_july_ordered.csv\", sep=',')"
   ]
  },
  {
   "cell_type": "code",
   "execution_count": 47,
   "metadata": {
    "scrolled": true
   },
   "outputs": [
    {
     "data": {
      "text/html": [
       "<div>\n",
       "<style scoped>\n",
       "    .dataframe tbody tr th:only-of-type {\n",
       "        vertical-align: middle;\n",
       "    }\n",
       "\n",
       "    .dataframe tbody tr th {\n",
       "        vertical-align: top;\n",
       "    }\n",
       "\n",
       "    .dataframe thead th {\n",
       "        text-align: right;\n",
       "    }\n",
       "</style>\n",
       "<table border=\"1\" class=\"dataframe\">\n",
       "  <thead>\n",
       "    <tr style=\"text-align: right;\">\n",
       "      <th></th>\n",
       "      <th>sequenceID</th>\n",
       "      <th>SIZE</th>\n",
       "      <th>webpage</th>\n",
       "      <th>event</th>\n",
       "    </tr>\n",
       "  </thead>\n",
       "  <tbody>\n",
       "    <tr>\n",
       "      <th>0</th>\n",
       "      <td>1</td>\n",
       "      <td>1</td>\n",
       "      <td>/ksc.html</td>\n",
       "      <td>1</td>\n",
       "    </tr>\n",
       "    <tr>\n",
       "      <th>1</th>\n",
       "      <td>1</td>\n",
       "      <td>1</td>\n",
       "      <td>/shuttle/missions/missions.html</td>\n",
       "      <td>2</td>\n",
       "    </tr>\n",
       "    <tr>\n",
       "      <th>2</th>\n",
       "      <td>1</td>\n",
       "      <td>1</td>\n",
       "      <td>/shuttle/missions/sts-35/mission-sts-35.html</td>\n",
       "      <td>3</td>\n",
       "    </tr>\n",
       "    <tr>\n",
       "      <th>3</th>\n",
       "      <td>1</td>\n",
       "      <td>1</td>\n",
       "      <td>/shuttle/missions/sts-35/mission-sts-35.html</td>\n",
       "      <td>4</td>\n",
       "    </tr>\n",
       "    <tr>\n",
       "      <th>4</th>\n",
       "      <td>1</td>\n",
       "      <td>1</td>\n",
       "      <td>/shuttle/resources/orbiters/columbia.html</td>\n",
       "      <td>5</td>\n",
       "    </tr>\n",
       "  </tbody>\n",
       "</table>\n",
       "</div>"
      ],
      "text/plain": [
       "   sequenceID  SIZE                                       webpage  event\n",
       "0           1     1                                     /ksc.html      1\n",
       "1           1     1               /shuttle/missions/missions.html      2\n",
       "2           1     1  /shuttle/missions/sts-35/mission-sts-35.html      3\n",
       "3           1     1  /shuttle/missions/sts-35/mission-sts-35.html      4\n",
       "4           1     1     /shuttle/resources/orbiters/columbia.html      5"
      ]
     },
     "execution_count": 47,
     "metadata": {},
     "output_type": "execute_result"
    }
   ],
   "source": [
    "processed_df.head()"
   ]
  },
  {
   "cell_type": "code",
   "execution_count": 41,
   "metadata": {},
   "outputs": [],
   "source": [
    "processed_df.sort_values(['sequenceID', 'eventID'], ascending=[True, True], inplace=True)"
   ]
  },
  {
   "cell_type": "code",
   "execution_count": 42,
   "metadata": {},
   "outputs": [],
   "source": [
    "processed_df['seq_copy'] = processed_df.sequenceID.shift(1)"
   ]
  },
  {
   "cell_type": "code",
   "execution_count": 43,
   "metadata": {},
   "outputs": [],
   "source": [
    "def increment_events(x):  \n",
    "    global event_idx\n",
    "    if (x['sequenceID']== x['seq_copy']):\n",
    "        event_idx+=1\n",
    "    else:\n",
    "        event_idx = 1\n",
    "    return(event_idx)\n",
    "\n",
    "event_idx=1\n",
    "processed_df['event'] = processed_df.apply(increment_events,axis=1)"
   ]
  },
  {
   "cell_type": "code",
   "execution_count": 46,
   "metadata": {},
   "outputs": [],
   "source": [
    "processed_df.drop('eventID', axis=1, inplace=True)\n",
    "processed_df.drop('seq_copy', axis=1, inplace=True)"
   ]
  },
  {
   "cell_type": "code",
   "execution_count": 48,
   "metadata": {},
   "outputs": [],
   "source": [
    "processed_df = processed_df[['sequenceID', 'event', 'webpage']]\n",
    "\n",
    "# write to csv\n",
    "processed_df.to_csv(\"sessionize_hostonly_july_ordered_sequence\",index=False, sep=' ')"
   ]
  }
 ],
 "metadata": {
  "kernelspec": {
   "display_name": "Python 3",
   "language": "python",
   "name": "python3"
  },
  "language_info": {
   "codemirror_mode": {
    "name": "ipython",
    "version": 3
   },
   "file_extension": ".py",
   "mimetype": "text/x-python",
   "name": "python",
   "nbconvert_exporter": "python",
   "pygments_lexer": "ipython3",
   "version": "3.6.5"
  }
 },
 "nbformat": 4,
 "nbformat_minor": 2
}
