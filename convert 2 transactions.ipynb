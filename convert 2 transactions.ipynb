{
 "cells": [
  {
   "cell_type": "code",
   "execution_count": 16,
   "metadata": {
    "collapsed": true
   },
   "outputs": [],
   "source": [
    "import pandas as pd\n",
    "import numpy as np\n",
    "import matplotlib.pyplot as plt"
   ]
  },
  {
   "cell_type": "code",
   "execution_count": 17,
   "metadata": {},
   "outputs": [
    {
     "name": "stderr",
     "output_type": "stream",
     "text": [
      "G:\\anaconda\\lib\\site-packages\\IPython\\core\\interactiveshell.py:2698: DtypeWarning: Columns (4) have mixed types. Specify dtype option on import or set low_memory=False.\n",
      "  interactivity=interactivity, compiler=compiler, result=result)\n"
     ]
    },
    {
     "data": {
      "text/html": [
       "<div>\n",
       "<style scoped>\n",
       "    .dataframe tbody tr th:only-of-type {\n",
       "        vertical-align: middle;\n",
       "    }\n",
       "\n",
       "    .dataframe tbody tr th {\n",
       "        vertical-align: top;\n",
       "    }\n",
       "\n",
       "    .dataframe thead th {\n",
       "        text-align: right;\n",
       "    }\n",
       "</style>\n",
       "<table border=\"1\" class=\"dataframe\">\n",
       "  <thead>\n",
       "    <tr style=\"text-align: right;\">\n",
       "      <th></th>\n",
       "      <th>ipaddress</th>\n",
       "      <th>date</th>\n",
       "      <th>time</th>\n",
       "      <th>webpage</th>\n",
       "      <th>bytes_recv</th>\n",
       "      <th>datetime</th>\n",
       "      <th>unix_timestamp</th>\n",
       "      <th>session_id</th>\n",
       "    </tr>\n",
       "  </thead>\n",
       "  <tbody>\n",
       "    <tr>\n",
       "      <th>0</th>\n",
       "      <td>***.novo.dk</td>\n",
       "      <td>09/Aug/1995</td>\n",
       "      <td>03:02:48</td>\n",
       "      <td>/shuttle/missions/sts-69/mission-sts-69.html</td>\n",
       "      <td>11264</td>\n",
       "      <td>1995-08-09 03:02:48</td>\n",
       "      <td>807937368</td>\n",
       "      <td>1.0</td>\n",
       "    </tr>\n",
       "    <tr>\n",
       "      <th>1</th>\n",
       "      <td>***.novo.dk</td>\n",
       "      <td>09/Aug/1995</td>\n",
       "      <td>03:03:52</td>\n",
       "      <td>/shuttle/countdown/</td>\n",
       "      <td>4673</td>\n",
       "      <td>1995-08-09 03:03:52</td>\n",
       "      <td>807937432</td>\n",
       "      <td>1.0</td>\n",
       "    </tr>\n",
       "    <tr>\n",
       "      <th>2</th>\n",
       "      <td>***.novo.dk</td>\n",
       "      <td>09/Aug/1995</td>\n",
       "      <td>03:05:38</td>\n",
       "      <td>/shuttle/countdown/liftoff.html</td>\n",
       "      <td>4665</td>\n",
       "      <td>1995-08-09 03:05:38</td>\n",
       "      <td>807937538</td>\n",
       "      <td>1.0</td>\n",
       "    </tr>\n",
       "    <tr>\n",
       "      <th>3</th>\n",
       "      <td>***.novo.dk</td>\n",
       "      <td>09/Aug/1995</td>\n",
       "      <td>03:07:40</td>\n",
       "      <td>/shuttle/countdown/lps/fr.html</td>\n",
       "      <td>1879</td>\n",
       "      <td>1995-08-09 03:07:40</td>\n",
       "      <td>807937660</td>\n",
       "      <td>1.0</td>\n",
       "    </tr>\n",
       "    <tr>\n",
       "      <th>4</th>\n",
       "      <td>001.msy4.communique.net</td>\n",
       "      <td>30/Aug/1995</td>\n",
       "      <td>02:55:47</td>\n",
       "      <td>/software/winvn/winvn.html</td>\n",
       "      <td>9630</td>\n",
       "      <td>1995-08-30 02:55:47</td>\n",
       "      <td>809751347</td>\n",
       "      <td>2.0</td>\n",
       "    </tr>\n",
       "  </tbody>\n",
       "</table>\n",
       "</div>"
      ],
      "text/plain": [
       "                 ipaddress         date      time  \\\n",
       "0              ***.novo.dk  09/Aug/1995  03:02:48   \n",
       "1              ***.novo.dk  09/Aug/1995  03:03:52   \n",
       "2              ***.novo.dk  09/Aug/1995  03:05:38   \n",
       "3              ***.novo.dk  09/Aug/1995  03:07:40   \n",
       "4  001.msy4.communique.net  30/Aug/1995  02:55:47   \n",
       "\n",
       "                                        webpage bytes_recv  \\\n",
       "0  /shuttle/missions/sts-69/mission-sts-69.html      11264   \n",
       "1                           /shuttle/countdown/       4673   \n",
       "2               /shuttle/countdown/liftoff.html       4665   \n",
       "3                /shuttle/countdown/lps/fr.html       1879   \n",
       "4                    /software/winvn/winvn.html       9630   \n",
       "\n",
       "              datetime  unix_timestamp  session_id  \n",
       "0  1995-08-09 03:02:48       807937368         1.0  \n",
       "1  1995-08-09 03:03:52       807937432         1.0  \n",
       "2  1995-08-09 03:05:38       807937538         1.0  \n",
       "3  1995-08-09 03:07:40       807937660         1.0  \n",
       "4  1995-08-30 02:55:47       809751347         2.0  "
      ]
     },
     "execution_count": 17,
     "metadata": {},
     "output_type": "execute_result"
    }
   ],
   "source": [
    "july_df = pd.read_csv(\"nasa_data/sessionized_data/sessionize_date_aug.csv\", header=0)\n",
    "july_df.head()"
   ]
  },
  {
   "cell_type": "code",
   "execution_count": 18,
   "metadata": {},
   "outputs": [
    {
     "data": {
      "text/plain": [
       "session_id\n",
       "1.0    {/shuttle/missions/sts-69/mission-sts-69.html,...\n",
       "2.0                         {/software/winvn/winvn.html}\n",
       "3.0                                {/shuttle/countdown/}\n",
       "4.0    {/shuttle/countdown/countdown.html, /shuttle/c...\n",
       "5.0                                  {/facts/faq04.html}\n",
       "Name: webpage, dtype: object"
      ]
     },
     "execution_count": 18,
     "metadata": {},
     "output_type": "execute_result"
    }
   ],
   "source": [
    "july_grouped_df = july_df.groupby(\"session_id\")[\"webpage\"].apply(lambda x: \"{%s}\" % ', '.join(x))\n",
    "july_grouped_df.head()"
   ]
  },
  {
   "cell_type": "code",
   "execution_count": 19,
   "metadata": {},
   "outputs": [
    {
     "data": {
      "text/html": [
       "<div>\n",
       "<style scoped>\n",
       "    .dataframe tbody tr th:only-of-type {\n",
       "        vertical-align: middle;\n",
       "    }\n",
       "\n",
       "    .dataframe tbody tr th {\n",
       "        vertical-align: top;\n",
       "    }\n",
       "\n",
       "    .dataframe thead th {\n",
       "        text-align: right;\n",
       "    }\n",
       "</style>\n",
       "<table border=\"1\" class=\"dataframe\">\n",
       "  <thead>\n",
       "    <tr style=\"text-align: right;\">\n",
       "      <th></th>\n",
       "      <th>session_id</th>\n",
       "      <th>webpage</th>\n",
       "    </tr>\n",
       "  </thead>\n",
       "  <tbody>\n",
       "    <tr>\n",
       "      <th>0</th>\n",
       "      <td>1.0</td>\n",
       "      <td>{/shuttle/missions/sts-69/mission-sts-69.html,...</td>\n",
       "    </tr>\n",
       "    <tr>\n",
       "      <th>1</th>\n",
       "      <td>2.0</td>\n",
       "      <td>{/software/winvn/winvn.html}</td>\n",
       "    </tr>\n",
       "    <tr>\n",
       "      <th>2</th>\n",
       "      <td>3.0</td>\n",
       "      <td>{/shuttle/countdown/}</td>\n",
       "    </tr>\n",
       "    <tr>\n",
       "      <th>3</th>\n",
       "      <td>4.0</td>\n",
       "      <td>{/shuttle/countdown/countdown.html, /shuttle/c...</td>\n",
       "    </tr>\n",
       "    <tr>\n",
       "      <th>4</th>\n",
       "      <td>5.0</td>\n",
       "      <td>{/facts/faq04.html}</td>\n",
       "    </tr>\n",
       "  </tbody>\n",
       "</table>\n",
       "</div>"
      ],
      "text/plain": [
       "   session_id                                            webpage\n",
       "0         1.0  {/shuttle/missions/sts-69/mission-sts-69.html,...\n",
       "1         2.0                       {/software/winvn/winvn.html}\n",
       "2         3.0                              {/shuttle/countdown/}\n",
       "3         4.0  {/shuttle/countdown/countdown.html, /shuttle/c...\n",
       "4         5.0                                {/facts/faq04.html}"
      ]
     },
     "execution_count": 19,
     "metadata": {},
     "output_type": "execute_result"
    }
   ],
   "source": [
    "july_grouped_df = july_grouped_df.reset_index()\n",
    "july_grouped_df.head()"
   ]
  },
  {
   "cell_type": "code",
   "execution_count": 20,
   "metadata": {},
   "outputs": [],
   "source": [
    "july_grouped_df.to_csv(\"nasa_data/august_date_transactions.csv\", index=False)"
   ]
  },
  {
   "cell_type": "code",
   "execution_count": null,
   "metadata": {
    "collapsed": true
   },
   "outputs": [],
   "source": []
  }
 ],
 "metadata": {
  "kernelspec": {
   "display_name": "Python 3",
   "language": "python",
   "name": "python3"
  },
  "language_info": {
   "codemirror_mode": {
    "name": "ipython",
    "version": 3
   },
   "file_extension": ".py",
   "mimetype": "text/x-python",
   "name": "python",
   "nbconvert_exporter": "python",
   "pygments_lexer": "ipython3",
   "version": "3.6.3"
  }
 },
 "nbformat": 4,
 "nbformat_minor": 2
}
